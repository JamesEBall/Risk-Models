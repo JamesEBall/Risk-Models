{
 "cells": [
  {
   "cell_type": "code",
   "execution_count": 55,
   "source": [
    "https://api.curve.fi/api/getFactoryV2Pools?"
   ],
   "outputs": [
    {
     "output_type": "stream",
     "name": "stdout",
     "text": [
      "Object `getFactoryV2Pools` not found.\n"
     ]
    }
   ],
   "metadata": {}
  },
  {
   "cell_type": "code",
   "execution_count": null,
   "source": [
    "https://api.curve.fi/api/getFactoryV2Pools"
   ],
   "outputs": [],
   "metadata": {}
  },
  {
   "cell_type": "code",
   "execution_count": 56,
   "source": [
    "import requests\n",
    "from requests.exceptions import HTTPError\n",
    "\n",
    "import math\n",
    "import pandas as pd\n",
    "from decimal import Decimal\n",
    "from pandas.io.json import json_normalize\n",
    "import json\n",
    "\n",
    "import numpy as np\n",
    "from pandas_datareader import data as pdr\n",
    "import matplotlib.pyplot as plt\n",
    "from scipy.stats import truncnorm, norm\n",
    "import mpl_interactions.ipyplot as iplt\n",
    "\n",
    "import seaborn as sns\n",
    "sns.set()"
   ],
   "outputs": [],
   "metadata": {}
  },
  {
   "cell_type": "code",
   "execution_count": 57,
   "source": [
    "def getdata(request):\n",
    "    try:\n",
    "        response = requests.get(request)\n",
    "        response.raise_for_status()\n",
    "        # access JSOn content\n",
    "        return response.json()\n",
    "        #print(\"Entire JSON response\")\n",
    "        #print(api_output[0]) #validate response from API\n",
    "\n",
    "    except HTTPError as http_err:\n",
    "        return (f'HTTP error occurred: {http_err}')\n",
    "    except Exception as err:\n",
    "        return (f'Other error occurred: {err}')\n",
    "\n",
    "#convert to callable dataframe\n",
    "def todataframe(data):\n",
    "    data = pd.read_json(data)\n",
    "    #df = pd.DataFrame(data)\n",
    "    #data = pd.json_normalize(df['lend_rates'])\n",
    "    #data = pd.merge(pd.to_datetime(df['timestamp'],unit='s').dt.date, data, left_index=True, right_index=True)\n",
    "    #data = data.set_index('timestamp')\n",
    "    return data"
   ],
   "outputs": [],
   "metadata": {}
  },
  {
   "cell_type": "code",
   "execution_count": 58,
   "source": [
    "jsonoutput = getdata('https://api.curve.fi/api/getFactoryV2Pools?')\n",
    "\n",
    "df = json_normalize(jsonoutput)\n",
    "df = pd.json_normalize(df['data.poolData'])\n",
    "df = pd.json_normalize(df[10])\n",
    "df"
   ],
   "outputs": [
    {
     "output_type": "stream",
     "name": "stderr",
     "text": [
      "/var/folders/s3/qyz3_tss1t71x5_drcdr5q5c0000gn/T/ipykernel_70042/4154871404.py:3: FutureWarning: pandas.io.json.json_normalize is deprecated, use pandas.json_normalize instead\n",
      "  df = json_normalize(jsonoutput)\n"
     ]
    },
    {
     "output_type": "execute_result",
     "data": {
      "text/plain": [
       "              id                                     address  \\\n",
       "0  factory-v2-10  0x6A274dE3e2462c7614702474D64d376729831dCa   \n",
       "\n",
       "                                      coinsAddresses       decimals  \\\n",
       "0  [0xBcca60bB61934080951369a648Fb03DF4F96263C, 0...  [6, 18, 0, 0]   \n",
       "\n",
       "                        implementationAddress assetType  \\\n",
       "0  0x24D937143d3F5cF04c72bA112735151A8CAE2262         0   \n",
       "\n",
       "                                           name        symbol  \\\n",
       "0  Curve.fi Factory Plain Pool: AAVE Untethered  aUSDC+aDAI-f   \n",
       "\n",
       "             totalSupply  implementation assetTypeName  \\\n",
       "0  206647787888324455707  plain2balances           usd   \n",
       "\n",
       "                                               coins   usdTotal  \n",
       "0  [{'address': '0xBcca60bB61934080951369a648Fb03...  206.66103  "
      ],
      "text/html": [
       "<div>\n",
       "<style scoped>\n",
       "    .dataframe tbody tr th:only-of-type {\n",
       "        vertical-align: middle;\n",
       "    }\n",
       "\n",
       "    .dataframe tbody tr th {\n",
       "        vertical-align: top;\n",
       "    }\n",
       "\n",
       "    .dataframe thead th {\n",
       "        text-align: right;\n",
       "    }\n",
       "</style>\n",
       "<table border=\"1\" class=\"dataframe\">\n",
       "  <thead>\n",
       "    <tr style=\"text-align: right;\">\n",
       "      <th></th>\n",
       "      <th>id</th>\n",
       "      <th>address</th>\n",
       "      <th>coinsAddresses</th>\n",
       "      <th>decimals</th>\n",
       "      <th>implementationAddress</th>\n",
       "      <th>assetType</th>\n",
       "      <th>name</th>\n",
       "      <th>symbol</th>\n",
       "      <th>totalSupply</th>\n",
       "      <th>implementation</th>\n",
       "      <th>assetTypeName</th>\n",
       "      <th>coins</th>\n",
       "      <th>usdTotal</th>\n",
       "    </tr>\n",
       "  </thead>\n",
       "  <tbody>\n",
       "    <tr>\n",
       "      <th>0</th>\n",
       "      <td>factory-v2-10</td>\n",
       "      <td>0x6A274dE3e2462c7614702474D64d376729831dCa</td>\n",
       "      <td>[0xBcca60bB61934080951369a648Fb03DF4F96263C, 0...</td>\n",
       "      <td>[6, 18, 0, 0]</td>\n",
       "      <td>0x24D937143d3F5cF04c72bA112735151A8CAE2262</td>\n",
       "      <td>0</td>\n",
       "      <td>Curve.fi Factory Plain Pool: AAVE Untethered</td>\n",
       "      <td>aUSDC+aDAI-f</td>\n",
       "      <td>206647787888324455707</td>\n",
       "      <td>plain2balances</td>\n",
       "      <td>usd</td>\n",
       "      <td>[{'address': '0xBcca60bB61934080951369a648Fb03...</td>\n",
       "      <td>206.66103</td>\n",
       "    </tr>\n",
       "  </tbody>\n",
       "</table>\n",
       "</div>"
      ]
     },
     "metadata": {},
     "execution_count": 58
    }
   ],
   "metadata": {}
  }
 ],
 "metadata": {
  "orig_nbformat": 4,
  "language_info": {
   "name": "python",
   "version": "3.9.6",
   "mimetype": "text/x-python",
   "codemirror_mode": {
    "name": "ipython",
    "version": 3
   },
   "pygments_lexer": "ipython3",
   "nbconvert_exporter": "python",
   "file_extension": ".py"
  },
  "kernelspec": {
   "name": "python3",
   "display_name": "Python 3.9.6 64-bit"
  },
  "interpreter": {
   "hash": "b0fa6594d8f4cbf19f97940f81e996739fb7646882a419484c72d19e05852a7e"
  }
 },
 "nbformat": 4,
 "nbformat_minor": 2
}