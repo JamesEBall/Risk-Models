{
 "cells": [
  {
   "cell_type": "code",
   "execution_count": 18,
   "source": [
    "from requests import Request, Session\n",
    "from requests.exceptions import ConnectionError, Timeout, TooManyRedirects\n",
    "import json"
   ],
   "outputs": [],
   "metadata": {}
  },
  {
   "cell_type": "code",
   "execution_count": 23,
   "source": [
    "from requests import Request, Session\n",
    "from requests.exceptions import ConnectionError, Timeout, TooManyRedirects\n",
    "import json\n",
    "\n",
    "url = \"https://pro-api.coinmarketcap.com/v1/cryptocurrency/listings/latest\"\n",
    "parameters = {\n",
    "  'start':'1',\n",
    "  'limit':'5000',\n",
    "  'convert':'USD'\n",
    "}\n",
    "headers = {\n",
    "  'Accepts': 'application/json',\n",
    "  'X-CMC_PRO_API_KEY': \"fa1b023e-58ff-4b51-bdc5-23979b26c46b\",\n",
    "}\n",
    "\n",
    "#get json query\n",
    "def getdata(request, params):\n",
    "    try:\n",
    "        response = requests.get(request, params)\n",
    "        response.raise_for_status()\n",
    "        # access JSOn content\n",
    "        return response.json()\n",
    "        #print(\"Entire JSON response\")\n",
    "        #print(api_output[0]) #validate response from API\n",
    "\n",
    "    except HTTPError as http_err:\n",
    "        return (f'HTTP error occurred: {http_err}')\n",
    "    except Exception as err:\n",
    "        return (f'Other error occurred: {err}')\n",
    "\n",
    "#convert to callable dataframe\n",
    "def get_lendrates(data):\n",
    "    df = pd.DataFrame.from_dict(data)\n",
    "    data = pd.json_normalize(df['lend_rates'])\n",
    "    data = pd.merge(pd.to_datetime(df['timestamp'],unit='s').dt.date, data, left_index=True, right_index=True)\n",
    "    data = data.set_index('timestamp')\n",
    "    return data\n",
    "\n",
    "getdata(url, parameters)"
   ],
   "outputs": [
    {
     "output_type": "error",
     "ename": "SyntaxError",
     "evalue": "EOL while scanning string literal (4153197972.py, line 39)",
     "traceback": [
      "\u001b[0;36m  File \u001b[0;32m\"/var/folders/s3/qyz3_tss1t71x5_drcdr5q5c0000gn/T/ipykernel_75852/4153197972.py\"\u001b[0;36m, line \u001b[0;32m39\u001b[0m\n\u001b[0;31m    getdata(url, parameters).com/v1/cryptocurrency/listings/latest'\u001b[0m\n\u001b[0m                                                                   ^\u001b[0m\n\u001b[0;31mSyntaxError\u001b[0m\u001b[0;31m:\u001b[0m EOL while scanning string literal\n"
     ]
    }
   ],
   "metadata": {}
  }
 ],
 "metadata": {
  "orig_nbformat": 4,
  "language_info": {
   "name": "python",
   "version": "3.9.6",
   "mimetype": "text/x-python",
   "codemirror_mode": {
    "name": "ipython",
    "version": 3
   },
   "pygments_lexer": "ipython3",
   "nbconvert_exporter": "python",
   "file_extension": ".py"
  },
  "kernelspec": {
   "name": "python3",
   "display_name": "Python 3.9.6 64-bit"
  },
  "interpreter": {
   "hash": "b0fa6594d8f4cbf19f97940f81e996739fb7646882a419484c72d19e05852a7e"
  }
 },
 "nbformat": 4,
 "nbformat_minor": 2
}