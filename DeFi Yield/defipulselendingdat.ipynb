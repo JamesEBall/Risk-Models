{
 "cells": [
  {
   "cell_type": "code",
   "execution_count": 151,
   "source": [
    "import requests\n",
    "from requests.exceptions import HTTPError\n",
    "\n",
    "import pandas as pd\n",
    "from decimal import Decimal\n",
    "from pandas.io.json import json_normalize\n",
    "import json\n",
    "\n",
    "import numpy as np\n",
    "import datetime as dt\n",
    "from pandas_datareader import data as pdr\n",
    "\n",
    "\n",
    "\n",
    "#Variables/Params\n",
    "api_key = '46583da07984f6f5e5acc0442fad24656e164280da7811e9aefa8bcfc9d1' #defi pulse\n",
    "request = '/defipulse/api/getLendingHistory' #getlending history\n",
    "#add support for BulkAPIMonitor\n",
    "requesturl = 'https://data-api.defipulse.com/api/v1' + request +'?api-key=' + api_key + '&period=1y'\n"
   ],
   "outputs": [],
   "metadata": {}
  },
  {
   "cell_type": "code",
   "execution_count": 152,
   "source": [
    "#get json query\n",
    "try:\n",
    "    response = requests.get(requesturl)\n",
    "    response.raise_for_status()\n",
    "    # access JSOn content\n",
    "    api_output = response.json()\n",
    "    #print(\"Entire JSON response\")\n",
    "    #print(api_output[0]) #validate response from API\n",
    "\n",
    "except HTTPError as http_err:\n",
    "    print(f'HTTP error occurred: {http_err}')\n",
    "except Exception as err:\n",
    "    print(f'Other error occurred: {err}')\n"
   ],
   "outputs": [],
   "metadata": {}
  },
  {
   "cell_type": "code",
   "execution_count": null,
   "source": [],
   "outputs": [],
   "metadata": {}
  },
  {
   "cell_type": "code",
   "execution_count": 153,
   "source": [
    "#extract lending data and dump into a dataframe\n",
    "df = pd.DataFrame.from_dict(api_output)\n",
    "df1 = df[['timestamp','lend_rates']]\n",
    "timestamps = df1['timestamp']\n",
    "timestamps = pd.to_datetime(timestamps,unit='s').dt.date\n",
    "data = pd.json_normalize(df1['lend_rates'])\n",
    "lendingdata = pd.merge(timestamps, data, left_index=True, right_index=True)"
   ],
   "outputs": [],
   "metadata": {}
  },
  {
   "cell_type": "code",
   "execution_count": 154,
   "source": [
    "melt_lendingdata.to_csv('lending_data_defipulse')\n",
    "melt_lendingdata.to_excel('lending_data_defipulse.xlsx')\n",
    "\n"
   ],
   "outputs": [],
   "metadata": {}
  }
 ],
 "metadata": {
  "orig_nbformat": 4,
  "language_info": {
   "name": "python",
   "version": "3.9.6",
   "mimetype": "text/x-python",
   "codemirror_mode": {
    "name": "ipython",
    "version": 3
   },
   "pygments_lexer": "ipython3",
   "nbconvert_exporter": "python",
   "file_extension": ".py"
  },
  "kernelspec": {
   "name": "python3",
   "display_name": "Python 3.9.6 64-bit"
  },
  "interpreter": {
   "hash": "b0fa6594d8f4cbf19f97940f81e996739fb7646882a419484c72d19e05852a7e"
  }
 },
 "nbformat": 4,
 "nbformat_minor": 2
}